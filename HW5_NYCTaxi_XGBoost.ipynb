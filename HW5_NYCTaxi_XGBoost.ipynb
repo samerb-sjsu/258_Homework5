{
  "nbformat": 4,
  "nbformat_minor": 0,
  "metadata": {
    "colab": {
      "name": "HW5_NYCTaxi_XGBoost.ipynb",
      "provenance": []
    },
    "kernelspec": {
      "name": "python3",
      "display_name": "Python 3"
    },
    "language_info": {
      "name": "python"
    },
    "accelerator": "GPU"
  },
  "cells": [
    {
      "cell_type": "markdown",
      "metadata": {
        "id": "2-Ji4F29tnk3"
      },
      "source": [
        "#CMPE-258: Deep Learning\n",
        "#New York Taxi Fare Prediction- XGBoost\n",
        "#Spring 2021, Vijay Eranti\n",
        "#Samer Baslan\n",
        "\n",
        "Reference: https://github.com/haleyhfeng/cmpe258-deep_learning/blob/main/HW5/hw5.4_MLOps_XGBoost.ipynb"
      ]
    },
    {
      "cell_type": "code",
      "metadata": {
        "id": "vKgzFBvetkix"
      },
      "source": [
        "# load some default Python modules\n",
        "import numpy as np\n",
        "import pandas as pd\n",
        "\n",
        "import matplotlib.pyplot as plt\n",
        "import seaborn as sns\n",
        "%matplotlib inline\n",
        "\n",
        "plt.style.use('seaborn-whitegrid')\n",
        "\n",
        "import warnings\n",
        "warnings.filterwarnings('ignore')\n",
        "from sklearn.model_selection import train_test_split\n",
        "import xgboost as xgb"
      ],
      "execution_count": 1,
      "outputs": []
    },
    {
      "cell_type": "code",
      "metadata": {
        "colab": {
          "base_uri": "https://localhost:8080/"
        },
        "id": "01ggtnl_s34A",
        "outputId": "9fb9aa3d-1020-46d1-d777-e0390f54d928"
      },
      "source": [
        "!pip install --upgrade --force-reinstall --no-deps kaggle\n",
        "%env KAGGLE_USERNAME=samerb\n",
        "%env KAGGLE_KEY=a527e9226f4a16c1953611848fe1a088\n",
        "NUM_ROWS = 15000\n",
        "\n",
        "!kaggle competitions download -c new-york-city-taxi-fare-prediction\n",
        "!unzip *.zip"
      ],
      "execution_count": 2,
      "outputs": [
        {
          "output_type": "stream",
          "text": [
            "Collecting kaggle\n",
            "\u001b[?25l  Downloading https://files.pythonhosted.org/packages/3a/e7/3bac01547d2ed3d308ac92a0878fbdb0ed0f3d41fb1906c319ccbba1bfbc/kaggle-1.5.12.tar.gz (58kB)\n",
            "\r\u001b[K     |█████▋                          | 10kB 20.8MB/s eta 0:00:01\r\u001b[K     |███████████▏                    | 20kB 28.5MB/s eta 0:00:01\r\u001b[K     |████████████████▊               | 30kB 23.3MB/s eta 0:00:01\r\u001b[K     |██████████████████████▎         | 40kB 27.1MB/s eta 0:00:01\r\u001b[K     |███████████████████████████▉    | 51kB 26.1MB/s eta 0:00:01\r\u001b[K     |████████████████████████████████| 61kB 7.3MB/s \n",
            "\u001b[?25hBuilding wheels for collected packages: kaggle\n",
            "  Building wheel for kaggle (setup.py) ... \u001b[?25l\u001b[?25hdone\n",
            "  Created wheel for kaggle: filename=kaggle-1.5.12-cp37-none-any.whl size=73053 sha256=ddc1f579eab19102c179507b2399bbce4326962fd9809ec22a14d76246c8eb67\n",
            "  Stored in directory: /root/.cache/pip/wheels/a1/6a/26/d30b7499ff85a4a4593377a87ecf55f7d08af42f0de9b60303\n",
            "Successfully built kaggle\n",
            "Installing collected packages: kaggle\n",
            "  Found existing installation: kaggle 1.5.12\n",
            "    Uninstalling kaggle-1.5.12:\n",
            "      Successfully uninstalled kaggle-1.5.12\n",
            "Successfully installed kaggle-1.5.12\n",
            "env: KAGGLE_USERNAME=samerb\n",
            "env: KAGGLE_KEY=a527e9226f4a16c1953611848fe1a088\n",
            "Downloading new-york-city-taxi-fare-prediction.zip to /content\n",
            "100% 1.55G/1.56G [00:07<00:00, 61.5MB/s]\n",
            "100% 1.56G/1.56G [00:07<00:00, 212MB/s] \n",
            "Archive:  new-york-city-taxi-fare-prediction.zip\n",
            "  inflating: GCP-Coupons-Instructions.rtf  \n",
            "  inflating: sample_submission.csv   \n",
            "  inflating: test.csv                \n",
            "  inflating: train.csv               \n"
          ],
          "name": "stdout"
        }
      ]
    },
    {
      "cell_type": "code",
      "metadata": {
        "colab": {
          "base_uri": "https://localhost:8080/"
        },
        "id": "k61l5EgqtkHT",
        "outputId": "58b523ec-30bf-4add-f8e4-4fcc98cd9968"
      },
      "source": [
        "train_df = pd.read_csv(\"train.csv\", nrows=NUM_ROWS)\n",
        "train_df.info()"
      ],
      "execution_count": 3,
      "outputs": [
        {
          "output_type": "stream",
          "text": [
            "<class 'pandas.core.frame.DataFrame'>\n",
            "RangeIndex: 15000 entries, 0 to 14999\n",
            "Data columns (total 8 columns):\n",
            " #   Column             Non-Null Count  Dtype  \n",
            "---  ------             --------------  -----  \n",
            " 0   key                15000 non-null  object \n",
            " 1   fare_amount        15000 non-null  float64\n",
            " 2   pickup_datetime    15000 non-null  object \n",
            " 3   pickup_longitude   15000 non-null  float64\n",
            " 4   pickup_latitude    15000 non-null  float64\n",
            " 5   dropoff_longitude  15000 non-null  float64\n",
            " 6   dropoff_latitude   15000 non-null  float64\n",
            " 7   passenger_count    15000 non-null  int64  \n",
            "dtypes: float64(5), int64(1), object(2)\n",
            "memory usage: 937.6+ KB\n"
          ],
          "name": "stdout"
        }
      ]
    },
    {
      "cell_type": "code",
      "metadata": {
        "colab": {
          "base_uri": "https://localhost:8080/"
        },
        "id": "dCWib-bjt1q_",
        "outputId": "c1a217ab-e867-4b1c-e50b-5d4b18874fd9"
      },
      "source": [
        "print(\"old size: %d\" % len(train_df))\n",
        "train_df = train_df[train_df.fare_amount >=0]\n",
        "print(\"New size: %d\" % len(train_df))"
      ],
      "execution_count": 4,
      "outputs": [
        {
          "output_type": "stream",
          "text": [
            "old size: 15000\n",
            "New size: 14997\n"
          ],
          "name": "stdout"
        }
      ]
    },
    {
      "cell_type": "markdown",
      "metadata": {
        "id": "R8p4Ay44vipv"
      },
      "source": [
        "##Feature Engineering Functions"
      ]
    },
    {
      "cell_type": "code",
      "metadata": {
        "id": "gkcoXC-8vZYW"
      },
      "source": [
        "def prepare_time_features(df):\n",
        "    df['pickup_datetime'] = df['pickup_datetime'].str.slice(0, 16)\n",
        "    df['pickup_datetime'] = pd.to_datetime(df['pickup_datetime'], utc=True, format='%Y-%m-%d %H:%M')\n",
        "    df['hour_of_day'] = df.pickup_datetime.dt.hour\n",
        "    df['month'] = df.pickup_datetime.dt.month\n",
        "    df[\"year\"] = df.pickup_datetime.dt.year\n",
        "    df[\"weekday\"] = df.pickup_datetime.dt.weekday\n",
        "    \n",
        "    return df"
      ],
      "execution_count": 5,
      "outputs": []
    },
    {
      "cell_type": "code",
      "metadata": {
        "id": "c6FtnIwfvrMo"
      },
      "source": [
        "def distance(lat1, lon1, lat2, lon2):\n",
        "    p = 0.017453292519943295 # Pi/180\n",
        "    a = 0.5 - np.cos((lat2 - lat1) * p)/2 + np.cos(lat1 * p) * np.cos(lat2 * p) * (1 - np.cos((lon2 - lon1) * p)) / 2\n",
        "    return 0.6213712 * 12742 * np.arcsin(np.sqrt(a))   # 2*R*asin..."
      ],
      "execution_count": 6,
      "outputs": []
    },
    {
      "cell_type": "code",
      "metadata": {
        "id": "V_tOuuIuvvrC"
      },
      "source": [
        "def transform(data):\n",
        "    # Distances to nearby airports, \n",
        "    jfk = (-73.7781, 40.6413)\n",
        "    ewr = (-74.1745, 40.6895)\n",
        "    lgr = (-73.8740, 40.7769)\n",
        "\n",
        "    data['pickup_distance_to_jfk'] = distance(jfk[1], jfk[0],\n",
        "                                         data['pickup_latitude'], data['pickup_longitude'])\n",
        "    data['dropoff_distance_to_jfk'] = distance(jfk[1], jfk[0],\n",
        "                                           data['dropoff_latitude'], data['dropoff_longitude'])\n",
        "    data['pickup_distance_to_ewr'] = distance(ewr[1], ewr[0], \n",
        "                                          data['pickup_latitude'], data['pickup_longitude'])\n",
        "    data['dropoff_distance_to_ewr'] = distance(ewr[1], ewr[0],\n",
        "                                           data['dropoff_latitude'], data['dropoff_longitude'])\n",
        "    data['pickup_distance_to_lgr'] = distance(lgr[1], lgr[0],\n",
        "                                          data['pickup_latitude'], data['pickup_longitude'])\n",
        "    data['dropoff_distance_to_lgr'] = distance(lgr[1], lgr[0],\n",
        "                                           data['dropoff_latitude'], data['dropoff_longitude'])\n",
        "    \n",
        "    return data"
      ],
      "execution_count": 7,
      "outputs": []
    },
    {
      "cell_type": "markdown",
      "metadata": {
        "id": "2j0NpoCuv1l9"
      },
      "source": [
        "##Apply Feature Engineering"
      ]
    },
    {
      "cell_type": "code",
      "metadata": {
        "id": "dWVyYmy7vyFg"
      },
      "source": [
        "train_df = prepare_time_features(train_df)\n",
        "train_df['distance_miles'] = distance(train_df.pickup_latitude, train_df.pickup_longitude, train_df.dropoff_latitude, train_df.dropoff_longitude)\n",
        "train_df = transform(train_df)"
      ],
      "execution_count": 8,
      "outputs": []
    },
    {
      "cell_type": "code",
      "metadata": {
        "colab": {
          "base_uri": "https://localhost:8080/"
        },
        "id": "_anTQoHowPs9",
        "outputId": "532c11e2-233f-4dbf-b3b4-d639ae53197f"
      },
      "source": [
        "print(len(train_df))\n",
        "train_df[(train_df['distance_miles']==0)&(train_df['fare_amount']==0)]\n",
        "print(len(train_df))"
      ],
      "execution_count": 9,
      "outputs": [
        {
          "output_type": "stream",
          "text": [
            "14997\n",
            "14997\n"
          ],
          "name": "stdout"
        }
      ]
    },
    {
      "cell_type": "code",
      "metadata": {
        "colab": {
          "base_uri": "https://localhost:8080/",
          "height": 224
        },
        "id": "yTavjOEGwa6o",
        "outputId": "cfc94865-7f98-476d-856e-39f9468ce8ee"
      },
      "source": [
        "train_df = train_df.drop(columns = ['key', 'pickup_datetime'])\n",
        "train_df.head()"
      ],
      "execution_count": 10,
      "outputs": [
        {
          "output_type": "execute_result",
          "data": {
            "text/html": [
              "<div>\n",
              "<style scoped>\n",
              "    .dataframe tbody tr th:only-of-type {\n",
              "        vertical-align: middle;\n",
              "    }\n",
              "\n",
              "    .dataframe tbody tr th {\n",
              "        vertical-align: top;\n",
              "    }\n",
              "\n",
              "    .dataframe thead th {\n",
              "        text-align: right;\n",
              "    }\n",
              "</style>\n",
              "<table border=\"1\" class=\"dataframe\">\n",
              "  <thead>\n",
              "    <tr style=\"text-align: right;\">\n",
              "      <th></th>\n",
              "      <th>fare_amount</th>\n",
              "      <th>pickup_longitude</th>\n",
              "      <th>pickup_latitude</th>\n",
              "      <th>dropoff_longitude</th>\n",
              "      <th>dropoff_latitude</th>\n",
              "      <th>passenger_count</th>\n",
              "      <th>hour_of_day</th>\n",
              "      <th>month</th>\n",
              "      <th>year</th>\n",
              "      <th>weekday</th>\n",
              "      <th>distance_miles</th>\n",
              "      <th>pickup_distance_to_jfk</th>\n",
              "      <th>dropoff_distance_to_jfk</th>\n",
              "      <th>pickup_distance_to_ewr</th>\n",
              "      <th>dropoff_distance_to_ewr</th>\n",
              "      <th>pickup_distance_to_lgr</th>\n",
              "      <th>dropoff_distance_to_lgr</th>\n",
              "    </tr>\n",
              "  </thead>\n",
              "  <tbody>\n",
              "    <tr>\n",
              "      <th>0</th>\n",
              "      <td>4.5</td>\n",
              "      <td>-73.844311</td>\n",
              "      <td>40.721319</td>\n",
              "      <td>-73.841610</td>\n",
              "      <td>40.712278</td>\n",
              "      <td>1</td>\n",
              "      <td>17</td>\n",
              "      <td>6</td>\n",
              "      <td>2009</td>\n",
              "      <td>0</td>\n",
              "      <td>0.640487</td>\n",
              "      <td>6.527098</td>\n",
              "      <td>5.926672</td>\n",
              "      <td>17.433727</td>\n",
              "      <td>17.508086</td>\n",
              "      <td>4.142790</td>\n",
              "      <td>4.776039</td>\n",
              "    </tr>\n",
              "    <tr>\n",
              "      <th>1</th>\n",
              "      <td>16.9</td>\n",
              "      <td>-74.016048</td>\n",
              "      <td>40.711303</td>\n",
              "      <td>-73.979268</td>\n",
              "      <td>40.782004</td>\n",
              "      <td>1</td>\n",
              "      <td>16</td>\n",
              "      <td>1</td>\n",
              "      <td>2010</td>\n",
              "      <td>1</td>\n",
              "      <td>5.250670</td>\n",
              "      <td>13.373879</td>\n",
              "      <td>14.335733</td>\n",
              "      <td>8.435586</td>\n",
              "      <td>12.054959</td>\n",
              "      <td>8.708241</td>\n",
              "      <td>5.518847</td>\n",
              "    </tr>\n",
              "    <tr>\n",
              "      <th>2</th>\n",
              "      <td>5.7</td>\n",
              "      <td>-73.982738</td>\n",
              "      <td>40.761270</td>\n",
              "      <td>-73.991242</td>\n",
              "      <td>40.750562</td>\n",
              "      <td>2</td>\n",
              "      <td>0</td>\n",
              "      <td>8</td>\n",
              "      <td>2011</td>\n",
              "      <td>3</td>\n",
              "      <td>0.863411</td>\n",
              "      <td>13.550258</td>\n",
              "      <td>13.478114</td>\n",
              "      <td>11.198778</td>\n",
              "      <td>10.482997</td>\n",
              "      <td>5.791580</td>\n",
              "      <td>6.399678</td>\n",
              "    </tr>\n",
              "    <tr>\n",
              "      <th>3</th>\n",
              "      <td>7.7</td>\n",
              "      <td>-73.987130</td>\n",
              "      <td>40.733143</td>\n",
              "      <td>-73.991567</td>\n",
              "      <td>40.758092</td>\n",
              "      <td>1</td>\n",
              "      <td>4</td>\n",
              "      <td>4</td>\n",
              "      <td>2012</td>\n",
              "      <td>5</td>\n",
              "      <td>1.739386</td>\n",
              "      <td>12.657169</td>\n",
              "      <td>13.789559</td>\n",
              "      <td>10.266000</td>\n",
              "      <td>10.687245</td>\n",
              "      <td>6.648280</td>\n",
              "      <td>6.287901</td>\n",
              "    </tr>\n",
              "    <tr>\n",
              "      <th>4</th>\n",
              "      <td>5.3</td>\n",
              "      <td>-73.968095</td>\n",
              "      <td>40.768008</td>\n",
              "      <td>-73.956655</td>\n",
              "      <td>40.783762</td>\n",
              "      <td>1</td>\n",
              "      <td>7</td>\n",
              "      <td>3</td>\n",
              "      <td>2010</td>\n",
              "      <td>1</td>\n",
              "      <td>1.242218</td>\n",
              "      <td>13.254398</td>\n",
              "      <td>13.577000</td>\n",
              "      <td>12.092157</td>\n",
              "      <td>13.133498</td>\n",
              "      <td>4.961705</td>\n",
              "      <td>4.350323</td>\n",
              "    </tr>\n",
              "  </tbody>\n",
              "</table>\n",
              "</div>"
            ],
            "text/plain": [
              "   fare_amount  ...  dropoff_distance_to_lgr\n",
              "0          4.5  ...                 4.776039\n",
              "1         16.9  ...                 5.518847\n",
              "2          5.7  ...                 6.399678\n",
              "3          7.7  ...                 6.287901\n",
              "4          5.3  ...                 4.350323\n",
              "\n",
              "[5 rows x 17 columns]"
            ]
          },
          "metadata": {
            "tags": []
          },
          "execution_count": 10
        }
      ]
    },
    {
      "cell_type": "code",
      "metadata": {
        "colab": {
          "base_uri": "https://localhost:8080/"
        },
        "id": "1u54rPzGwn-6",
        "outputId": "99266207-3bff-4d11-ffc9-cfa31ac6d875"
      },
      "source": [
        "X_train, X_test, y_train, y_test = train_test_split(train_df.drop('fare_amount', axis=1),\n",
        "                                                    train_df['fare_amount'], test_size=0.2, random_state = 42)\n",
        "print(X_train.shape)\n",
        "print(X_test.shape)\n",
        "print(y_train.shape)\n",
        "print(y_test.shape)"
      ],
      "execution_count": 11,
      "outputs": [
        {
          "output_type": "stream",
          "text": [
            "(11997, 16)\n",
            "(3000, 16)\n",
            "(11997,)\n",
            "(3000,)\n"
          ],
          "name": "stdout"
        }
      ]
    },
    {
      "cell_type": "markdown",
      "metadata": {
        "id": "10QkDgoXw0G3"
      },
      "source": [
        "##XGBoost Model"
      ]
    },
    {
      "cell_type": "code",
      "metadata": {
        "id": "MEOdYX6ywvW9"
      },
      "source": [
        "params = {\n",
        "    'max_depth': 8,\n",
        "    'gamma' :0,\n",
        "    'eta':.05, \n",
        "    'subsample': 1,\n",
        "    'colsample_bytree': 0.9, \n",
        "    'objective':'reg:linear',\n",
        "    'eval_metric':'rmse',\n",
        "    'silent': 0\n",
        "}"
      ],
      "execution_count": 12,
      "outputs": []
    },
    {
      "cell_type": "code",
      "metadata": {
        "colab": {
          "base_uri": "https://localhost:8080/"
        },
        "id": "zj1Ay3Xkw4WJ",
        "outputId": "88fc8966-4553-4120-9d10-886393c15d65"
      },
      "source": [
        "def XGBmodel(X_train,X_test,y_train,y_test,params):\n",
        "    matrix_train = xgb.DMatrix(X_train,label=y_train)\n",
        "    matrix_test = xgb.DMatrix(X_test,label=y_test)\n",
        "    model=xgb.train(params=params,\n",
        "                    dtrain=matrix_train,num_boost_round=5000, \n",
        "                    early_stopping_rounds=10,evals=[(matrix_test,'test')])\n",
        "    return model\n",
        "\n",
        "model = XGBmodel(X_train,X_test,y_train,y_test,params)"
      ],
      "execution_count": 13,
      "outputs": [
        {
          "output_type": "stream",
          "text": [
            "[06:03:12] WARNING: /workspace/src/objective/regression_obj.cu:152: reg:linear is now deprecated in favor of reg:squarederror.\n",
            "[0]\ttest-rmse:13.649\n",
            "Will train until test-rmse hasn't improved in 10 rounds.\n",
            "[1]\ttest-rmse:13.0679\n",
            "[2]\ttest-rmse:12.552\n",
            "[3]\ttest-rmse:12.0301\n",
            "[4]\ttest-rmse:11.5406\n",
            "[5]\ttest-rmse:11.0788\n",
            "[6]\ttest-rmse:10.6472\n",
            "[7]\ttest-rmse:10.2435\n",
            "[8]\ttest-rmse:9.86466\n",
            "[9]\ttest-rmse:9.50789\n",
            "[10]\ttest-rmse:9.18857\n",
            "[11]\ttest-rmse:8.87486\n",
            "[12]\ttest-rmse:8.57942\n",
            "[13]\ttest-rmse:8.30236\n",
            "[14]\ttest-rmse:8.04573\n",
            "[15]\ttest-rmse:7.80676\n",
            "[16]\ttest-rmse:7.58384\n",
            "[17]\ttest-rmse:7.36418\n",
            "[18]\ttest-rmse:7.17167\n",
            "[19]\ttest-rmse:6.995\n",
            "[20]\ttest-rmse:6.82872\n",
            "[21]\ttest-rmse:6.67804\n",
            "[22]\ttest-rmse:6.54785\n",
            "[23]\ttest-rmse:6.4045\n",
            "[24]\ttest-rmse:6.28175\n",
            "[25]\ttest-rmse:6.16855\n",
            "[26]\ttest-rmse:6.06007\n",
            "[27]\ttest-rmse:5.96602\n",
            "[28]\ttest-rmse:5.86694\n",
            "[29]\ttest-rmse:5.78704\n",
            "[30]\ttest-rmse:5.71696\n",
            "[31]\ttest-rmse:5.65165\n",
            "[32]\ttest-rmse:5.57573\n",
            "[33]\ttest-rmse:5.51747\n",
            "[34]\ttest-rmse:5.45281\n",
            "[35]\ttest-rmse:5.3936\n",
            "[36]\ttest-rmse:5.34539\n",
            "[37]\ttest-rmse:5.30154\n",
            "[38]\ttest-rmse:5.26617\n",
            "[39]\ttest-rmse:5.23251\n",
            "[40]\ttest-rmse:5.20003\n",
            "[41]\ttest-rmse:5.17573\n",
            "[42]\ttest-rmse:5.15323\n",
            "[43]\ttest-rmse:5.13085\n",
            "[44]\ttest-rmse:5.10743\n",
            "[45]\ttest-rmse:5.09122\n",
            "[46]\ttest-rmse:5.07195\n",
            "[47]\ttest-rmse:5.05591\n",
            "[48]\ttest-rmse:5.0426\n",
            "[49]\ttest-rmse:5.02915\n",
            "[50]\ttest-rmse:5.01656\n",
            "[51]\ttest-rmse:5.00537\n",
            "[52]\ttest-rmse:4.99581\n",
            "[53]\ttest-rmse:4.98771\n",
            "[54]\ttest-rmse:4.98113\n",
            "[55]\ttest-rmse:4.97253\n",
            "[56]\ttest-rmse:4.96477\n",
            "[57]\ttest-rmse:4.95671\n",
            "[58]\ttest-rmse:4.95234\n",
            "[59]\ttest-rmse:4.9518\n",
            "[60]\ttest-rmse:4.94966\n",
            "[61]\ttest-rmse:4.94199\n",
            "[62]\ttest-rmse:4.93539\n",
            "[63]\ttest-rmse:4.93248\n",
            "[64]\ttest-rmse:4.93207\n",
            "[65]\ttest-rmse:4.92151\n",
            "[66]\ttest-rmse:4.91913\n",
            "[67]\ttest-rmse:4.92052\n",
            "[68]\ttest-rmse:4.91807\n",
            "[69]\ttest-rmse:4.91306\n",
            "[70]\ttest-rmse:4.91301\n",
            "[71]\ttest-rmse:4.91095\n",
            "[72]\ttest-rmse:4.91168\n",
            "[73]\ttest-rmse:4.91051\n",
            "[74]\ttest-rmse:4.91128\n",
            "[75]\ttest-rmse:4.90923\n",
            "[76]\ttest-rmse:4.91253\n",
            "[77]\ttest-rmse:4.91221\n",
            "[78]\ttest-rmse:4.91028\n",
            "[79]\ttest-rmse:4.91143\n",
            "[80]\ttest-rmse:4.91077\n",
            "[81]\ttest-rmse:4.91161\n",
            "[82]\ttest-rmse:4.9105\n",
            "[83]\ttest-rmse:4.91151\n",
            "[84]\ttest-rmse:4.91095\n",
            "[85]\ttest-rmse:4.91185\n",
            "Stopping. Best iteration:\n",
            "[75]\ttest-rmse:4.90923\n",
            "\n"
          ],
          "name": "stdout"
        }
      ]
    }
  ]
}